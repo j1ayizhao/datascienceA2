{
  "cells": [
    {
      "cell_type": "markdown",
      "metadata": {
        "id": "view-in-github",
        "colab_type": "text"
      },
      "source": [
        "<a href=\"https://colab.research.google.com/github/j1ayizhao/datascienceA2/blob/main/JiayZhaoU2proj.ipynb\" target=\"_parent\"><img src=\"https://colab.research.google.com/assets/colab-badge.svg\" alt=\"Open In Colab\"/></a>"
      ]
    },
    {
      "cell_type": "markdown",
      "metadata": {
        "id": "hIWO5hU4NeAg"
      },
      "source": [
        "# Unit 2 Project: Flipping Metaphorical Coins\n",
        "\n",
        "**Task**:\n",
        "\n",
        "Two parts:\n",
        "\n",
        "1. Propose a data set that's compatible with a pymc betabinomial model. I must approve your submission before you move on to part 2.\n",
        "\n",
        "2. Create, analyze, and present a betabinomial model using pymc within the colab environment, on a data set of your choice."
      ]
    },
    {
      "cell_type": "code",
      "execution_count": 2,
      "metadata": {
        "colab": {
          "base_uri": "https://localhost:8080/"
        },
        "id": "rhQBkjcwFmMl",
        "outputId": "b90b2981-4c29-48ca-bd6a-ea8d7c0cb83b"
      },
      "outputs": [
        {
          "output_type": "stream",
          "name": "stdout",
          "text": [
            "Collecting preliz\n",
            "  Downloading preliz-0.9.1-py3-none-any.whl.metadata (5.8 kB)\n",
            "Requirement already satisfied: arviz in /usr/local/lib/python3.10/dist-packages (from preliz) (0.18.0)\n",
            "Requirement already satisfied: matplotlib>=3.5 in /usr/local/lib/python3.10/dist-packages (from preliz) (3.7.1)\n",
            "Requirement already satisfied: numba>=0.59 in /usr/local/lib/python3.10/dist-packages (from preliz) (0.60.0)\n",
            "Requirement already satisfied: numpy>=1.22 in /usr/local/lib/python3.10/dist-packages (from preliz) (1.26.4)\n",
            "Collecting scipy<1.13,>=1.9.1 (from preliz)\n",
            "  Downloading scipy-1.12.0-cp310-cp310-manylinux_2_17_x86_64.manylinux2014_x86_64.whl.metadata (60 kB)\n",
            "\u001b[2K     \u001b[90m━━━━━━━━━━━━━━━━━━━━━━━━━━━━━━━━━━━━━━━━\u001b[0m \u001b[32m60.4/60.4 kB\u001b[0m \u001b[31m700.9 kB/s\u001b[0m eta \u001b[36m0:00:00\u001b[0m\n",
            "\u001b[?25hRequirement already satisfied: contourpy>=1.0.1 in /usr/local/lib/python3.10/dist-packages (from matplotlib>=3.5->preliz) (1.3.0)\n",
            "Requirement already satisfied: cycler>=0.10 in /usr/local/lib/python3.10/dist-packages (from matplotlib>=3.5->preliz) (0.12.1)\n",
            "Requirement already satisfied: fonttools>=4.22.0 in /usr/local/lib/python3.10/dist-packages (from matplotlib>=3.5->preliz) (4.53.1)\n",
            "Requirement already satisfied: kiwisolver>=1.0.1 in /usr/local/lib/python3.10/dist-packages (from matplotlib>=3.5->preliz) (1.4.7)\n",
            "Requirement already satisfied: packaging>=20.0 in /usr/local/lib/python3.10/dist-packages (from matplotlib>=3.5->preliz) (24.1)\n",
            "Requirement already satisfied: pillow>=6.2.0 in /usr/local/lib/python3.10/dist-packages (from matplotlib>=3.5->preliz) (9.4.0)\n",
            "Requirement already satisfied: pyparsing>=2.3.1 in /usr/local/lib/python3.10/dist-packages (from matplotlib>=3.5->preliz) (3.1.4)\n",
            "Requirement already satisfied: python-dateutil>=2.7 in /usr/local/lib/python3.10/dist-packages (from matplotlib>=3.5->preliz) (2.8.2)\n",
            "Requirement already satisfied: llvmlite<0.44,>=0.43.0dev0 in /usr/local/lib/python3.10/dist-packages (from numba>=0.59->preliz) (0.43.0)\n",
            "Requirement already satisfied: setuptools>=60.0.0 in /usr/local/lib/python3.10/dist-packages (from arviz->preliz) (71.0.4)\n",
            "Requirement already satisfied: pandas>=1.5.0 in /usr/local/lib/python3.10/dist-packages (from arviz->preliz) (2.1.4)\n",
            "Requirement already satisfied: dm-tree>=0.1.8 in /usr/local/lib/python3.10/dist-packages (from arviz->preliz) (0.1.8)\n",
            "Requirement already satisfied: xarray>=2022.6.0 in /usr/local/lib/python3.10/dist-packages (from arviz->preliz) (2024.6.0)\n",
            "Requirement already satisfied: h5netcdf>=1.0.2 in /usr/local/lib/python3.10/dist-packages (from arviz->preliz) (1.3.0)\n",
            "Requirement already satisfied: typing-extensions>=4.1.0 in /usr/local/lib/python3.10/dist-packages (from arviz->preliz) (4.12.2)\n",
            "Requirement already satisfied: xarray-einstats>=0.3 in /usr/local/lib/python3.10/dist-packages (from arviz->preliz) (0.7.0)\n",
            "Requirement already satisfied: h5py in /usr/local/lib/python3.10/dist-packages (from h5netcdf>=1.0.2->arviz->preliz) (3.11.0)\n",
            "Requirement already satisfied: pytz>=2020.1 in /usr/local/lib/python3.10/dist-packages (from pandas>=1.5.0->arviz->preliz) (2024.2)\n",
            "Requirement already satisfied: tzdata>=2022.1 in /usr/local/lib/python3.10/dist-packages (from pandas>=1.5.0->arviz->preliz) (2024.1)\n",
            "Requirement already satisfied: six>=1.5 in /usr/local/lib/python3.10/dist-packages (from python-dateutil>=2.7->matplotlib>=3.5->preliz) (1.16.0)\n",
            "Downloading preliz-0.9.1-py3-none-any.whl (505 kB)\n",
            "\u001b[2K   \u001b[90m━━━━━━━━━━━━━━━━━━━━━━━━━━━━━━━━━━━━━━━━\u001b[0m \u001b[32m505.6/505.6 kB\u001b[0m \u001b[31m3.9 MB/s\u001b[0m eta \u001b[36m0:00:00\u001b[0m\n",
            "\u001b[?25hDownloading scipy-1.12.0-cp310-cp310-manylinux_2_17_x86_64.manylinux2014_x86_64.whl (38.4 MB)\n",
            "\u001b[2K   \u001b[90m━━━━━━━━━━━━━━━━━━━━━━━━━━━━━━━━━━━━━━━━\u001b[0m \u001b[32m38.4/38.4 MB\u001b[0m \u001b[31m18.4 MB/s\u001b[0m eta \u001b[36m0:00:00\u001b[0m\n",
            "\u001b[?25hInstalling collected packages: scipy, preliz\n",
            "  Attempting uninstall: scipy\n",
            "    Found existing installation: scipy 1.13.1\n",
            "    Uninstalling scipy-1.13.1:\n",
            "      Successfully uninstalled scipy-1.13.1\n",
            "\u001b[31mERROR: pip's dependency resolver does not currently take into account all the packages that are installed. This behaviour is the source of the following dependency conflicts.\n",
            "osqp 0.6.7.post0 requires scipy!=1.12.0,>=0.13.2, but you have scipy 1.12.0 which is incompatible.\u001b[0m\u001b[31m\n",
            "\u001b[0mSuccessfully installed preliz-0.9.1 scipy-1.12.0\n"
          ]
        }
      ],
      "source": [
        "!pip install preliz"
      ]
    },
    {
      "cell_type": "code",
      "execution_count": 3,
      "metadata": {
        "id": "Jbq7bRa3Ger2"
      },
      "outputs": [],
      "source": [
        "import preliz as pz"
      ]
    },
    {
      "cell_type": "code",
      "execution_count": 4,
      "metadata": {
        "id": "HVU5cvOGGk-9"
      },
      "outputs": [],
      "source": [
        "import numpy as np\n",
        "import arviz as az\n",
        "import pymc as pm"
      ]
    },
    {
      "cell_type": "markdown",
      "source": [
        "## **Context**"
      ],
      "metadata": {
        "id": "zVEaJKoqwHBd"
      }
    },
    {
      "cell_type": "markdown",
      "source": [
        "For my project, I aim to predict the probability that a newly opened food business in the US would close down within its first year of operation.\n",
        "\n",
        "Food businesses have a lot of bases to cover in order to operate successfully, from funding, marketing, labor and time management, to customer retention. Not to mention, the restaurant industry is notoriously competitive and dynamic, so not only is it a full-time committment and expensive, businesses also need to figure out how to stand out in a saturated market where new restaurants are opening every day."
      ],
      "metadata": {
        "id": "-sIuHiDCwPrZ"
      }
    },
    {
      "cell_type": "markdown",
      "metadata": {
        "id": "BNzw9yuZJLpl"
      },
      "source": [
        "\n",
        "## **Prior**"
      ]
    },
    {
      "cell_type": "markdown",
      "metadata": {
        "id": "L-nB8_cFJ8Dy"
      },
      "source": [
        "I am predicting that the likelihood of a food business in the US failing in its first year is 70%. The main reason for this is because most new restaurants do not turn nearly enough profit, if at all, in their first year to stick it out in the long run. The operational costs will be higher in the first year than any other year, because in addition to recurring fees like rent, utilities, ads, insurance, there's also a significant amount that comes from set-up, like buying all your equipment and hiring employees.\n",
        "\n",
        "There are also other pitfalls that come from general inexperience of new entrepreneurs. The storefront location can make or break a business (consider foot traffic, accessibility, local competition, etc), you need effective marketing, and also be adaptable to changes within the market. Without thorough planning, any of these factors can easily jeopardize the success of a new food business.\n",
        "\n",
        "All of the aforementioned reasons contributed to my probability prediction/prior.\n",
        "\n",
        "I used a beta distribution for my prior:\n",
        "\n",
        "θ∼Beta(α=60,β=40)\n",
        "\n",
        "\n",
        "60 as the % of businesses failed, and 40 as the % still open.\n",
        "\n"
      ]
    },
    {
      "cell_type": "code",
      "execution_count": 9,
      "metadata": {
        "colab": {
          "base_uri": "https://localhost:8080/",
          "height": 447
        },
        "id": "M2uJdH3DH-3O",
        "outputId": "177819d9-82ff-45c4-f35a-d29379a73abb"
      },
      "outputs": [
        {
          "output_type": "execute_result",
          "data": {
            "text/plain": [
              "<Axes: >"
            ]
          },
          "metadata": {},
          "execution_count": 9
        },
        {
          "output_type": "display_data",
          "data": {
            "text/plain": [
              "<Figure size 640x480 with 1 Axes>"
            ],
            "image/png": "[encoded data removed]"
          },
          "metadata": {}
        }
      ],
      "source": [
        "pz.Beta(alpha=60,beta=40).plot_pdf()\n"
      ]
    },
    {
      "cell_type": "markdown",
      "metadata": {
        "id": "oH4lRPxbVLsX"
      },
      "source": [
        "## **pymc model**"
      ]
    },
    {
      "cell_type": "code",
      "execution_count": 5,
      "metadata": {
        "id": "ObQa2HLVNHL5"
      },
      "outputs": [],
      "source": [
        "\n",
        "Startup_makes = np.repeat(0, 434)\n",
        "\n",
        "Startup_fails = np.repeat(1, 377)\n",
        "\n",
        "Startups_data = np.concatenate( [Startup_fails, Startup_makes] )"
      ]
    },
    {
      "cell_type": "code",
      "execution_count": 6,
      "metadata": {
        "colab": {
          "base_uri": "https://localhost:8080/",
          "height": 57
        },
        "id": "8vXZ3dh-NJi6",
        "outputId": "4db9a99a-6f75-4d10-d1e2-d45c911235c8"
      },
      "outputs": [
        {
          "output_type": "display_data",
          "data": {
            "text/plain": [
              "<IPython.core.display.HTML object>"
            ],
            "text/html": [
              "\n",
              "<style>\n",
              "    /* Turns off some styling */\n",
              "    progress {\n",
              "        /* gets rid of default border in Firefox and Opera. */\n",
              "        border: none;\n",
              "        /* Needs to be in here for Safari polyfill so background images work as expected. */\n",
              "        background-size: auto;\n",
              "    }\n",
              "    progress:not([value]), progress:not([value])::-webkit-progress-bar {\n",
              "        background: repeating-linear-gradient(45deg, #7e7e7e, #7e7e7e 10px, #5c5c5c 10px, #5c5c5c 20px);\n",
              "    }\n",
              "    .progress-bar-interrupted, .progress-bar-interrupted::-webkit-progress-bar {\n",
              "        background: #F44336;\n",
              "    }\n",
              "</style>\n"
            ]
          },
          "metadata": {}
        },
        {
          "output_type": "display_data",
          "data": {
            "text/plain": [
              "<IPython.core.display.HTML object>"
            ],
            "text/html": [
              "\n",
              "    <div>\n",
              "      <progress value='2000' class='' max='2000' style='width:300px; height:20px; vertical-align: middle;'></progress>\n",
              "      100.00% [2000/2000 00:01&lt;00:00 Sampling chain 0, 0 divergences]\n",
              "    </div>\n",
              "    "
            ]
          },
          "metadata": {}
        },
        {
          "output_type": "display_data",
          "data": {
            "text/plain": [
              "<IPython.core.display.HTML object>"
            ],
            "text/html": [
              "\n",
              "<style>\n",
              "    /* Turns off some styling */\n",
              "    progress {\n",
              "        /* gets rid of default border in Firefox and Opera. */\n",
              "        border: none;\n",
              "        /* Needs to be in here for Safari polyfill so background images work as expected. */\n",
              "        background-size: auto;\n",
              "    }\n",
              "    progress:not([value]), progress:not([value])::-webkit-progress-bar {\n",
              "        background: repeating-linear-gradient(45deg, #7e7e7e, #7e7e7e 10px, #5c5c5c 10px, #5c5c5c 20px);\n",
              "    }\n",
              "    .progress-bar-interrupted, .progress-bar-interrupted::-webkit-progress-bar {\n",
              "        background: #F44336;\n",
              "    }\n",
              "</style>\n"
            ]
          },
          "metadata": {}
        },
        {
          "output_type": "display_data",
          "data": {
            "text/plain": [
              "<IPython.core.display.HTML object>"
            ],
            "text/html": [
              "\n",
              "    <div>\n",
              "      <progress value='2000' class='' max='2000' style='width:300px; height:20px; vertical-align: middle;'></progress>\n",
              "      100.00% [2000/2000 00:01&lt;00:00 Sampling chain 1, 0 divergences]\n",
              "    </div>\n",
              "    "
            ]
          },
          "metadata": {}
        }
      ],
      "source": [
        "\n",
        "\n",
        "with pm.Model() as startups_model:\n",
        "\n",
        "  θ = pm.Beta('θ' , alpha = 70. , beta = 30.)\n",
        "\n",
        "  y = pm.Bernoulli('y', p = θ, observed = Startups_data)\n",
        "\n",
        "  idata_startups = pm.sample(1000)\n"
      ]
    },
    {
      "cell_type": "code",
      "execution_count": 7,
      "metadata": {
        "id": "1vgqAYdfKaE-"
      },
      "outputs": [],
      "source": [
        "import arviz as az"
      ]
    },
    {
      "cell_type": "code",
      "execution_count": 8,
      "metadata": {
        "colab": {
          "base_uri": "https://localhost:8080/",
          "height": 475
        },
        "id": "kaM-AOETKrx_",
        "outputId": "a0810a0a-a4af-4238-e7cb-f9c060c1da72"
      },
      "outputs": [
        {
          "output_type": "execute_result",
          "data": {
            "text/plain": [
              "<Axes: title={'center': 'θ'}>"
            ]
          },
          "metadata": {},
          "execution_count": 8
        },
        {
          "output_type": "display_data",
          "data": {
            "text/plain": [
              "<Figure size 640x480 with 1 Axes>"
            ],
            "image/png": "[encoded data removed]"
          },
          "metadata": {}
        }
      ],
      "source": [
        "az.plot_posterior(idata_startups)"
      ]
    },
    {
      "cell_type": "markdown",
      "metadata": {
        "id": "u194_U_lo75G"
      },
      "source": [
        "I graphed my posterior using the betabinomial model. My data set comes from a 2023 food business Yelp listing. On January 2023, there were a total of 811 new food business listings, and by December, 434 of those listings remained.\n",
        "\n",
        "This brings the 2023 food business failure rate to ~47%, which is fairly close to the mean generated by my posterior. I don't think my model can be used to accurately conclude anything about the actual failure rate of a food business in its first year, given my data comes from one year, but it was pretty close to my prediction.\n",
        "\n"
      ]
    },
    {
      "cell_type": "markdown",
      "metadata": {
        "id": "1lD8tkc9Rk2c"
      },
      "source": [
        "\n",
        "https://data.yelp.com/business-openings-report-2023#methodology\n",
        "\n"
      ]
    }
  ],
  "metadata": {
    "colab": {
      "provenance": [],
      "include_colab_link": true
    },
    "kernelspec": {
      "display_name": "Python 3",
      "name": "python3"
    },
    "language_info": {
      "name": "python"
    }
  },
  "nbformat": 4,
  "nbformat_minor": 0
}